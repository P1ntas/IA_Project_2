{
 "cells": [
  {
   "cell_type": "markdown",
   "metadata": {},
   "source": [
    "# ACOUSTIC EXTINGUISHER FIRE DATASET\n",
    "\n",
    "The dataset was gathered after four separate fuel flames were put out using a sound wave extinguishing apparatus. With this experimental set-up, 17,442 tests were carried out in all. The fuel container size features in the dataset correspond to the flame size, fuel type, frequency, decibel, distance, airflow, and status of flame extinction.\n",
    "\n",
    "Based on the provided criteria, our goal is to forecast whether or not the flame will go out.\n"
   ]
  },
  {
   "cell_type": "markdown",
   "metadata": {},
   "source": [
    "## Used Imports"
   ]
  },
  {
   "cell_type": "code",
   "execution_count": null,
   "metadata": {},
   "outputs": [],
   "source": [
    "import pandas as pd\n",
    "import numpy as np\n",
    "import matplotlib.pyplot as plt\n",
    "import seaborn as sns\n",
    "from sklearn.model_selection import train_test_split\n",
    "from sklearn.model_selection import GridSearchCV\n",
    "from sklearn.neighbors import KNeighborsClassifier\n",
    "from sklearn.svm import SVC\n",
    "from sklearn.tree import DecisionTreeClassifier\n",
    "from sklearn.neural_network import MLPClassifier\n",
    "from sklearn.metrics import classification_report, confusion_matrix, roc_auc_score, accuracy_score\n",
    "from sklearn import tree\n",
    "from sklearn.metrics import f1_score"
   ]
  },
  {
   "cell_type": "markdown",
   "metadata": {},
   "source": [
    "## Dataset"
   ]
  },
  {
   "cell_type": "code",
   "execution_count": null,
   "metadata": {},
   "outputs": [],
   "source": [
    "dataset = pd.read_excel('Acoustic_Extinguisher_Fire_Dataset/Acoustic_Extinguisher_Fire_Dataset.xlsx')\n",
    "dataset.head()"
   ]
  },
  {
   "cell_type": "markdown",
   "metadata": {},
   "source": [
    "## Data"
   ]
  },
  {
   "cell_type": "markdown",
   "metadata": {},
   "source": [
    "The size of the dataset (lines, columns):"
   ]
  },
  {
   "cell_type": "code",
   "execution_count": null,
   "metadata": {},
   "outputs": [],
   "source": [
    "dataset.shape"
   ]
  },
  {
   "cell_type": "code",
   "execution_count": null,
   "metadata": {},
   "outputs": [],
   "source": [
    "dataset.info()"
   ]
  },
  {
   "cell_type": "code",
   "execution_count": null,
   "metadata": {},
   "outputs": [],
   "source": [
    "#dataset.corr(numeric_only = True)"
   ]
  },
  {
   "cell_type": "code",
   "execution_count": null,
   "metadata": {},
   "outputs": [],
   "source": [
    "dataset.describe()"
   ]
  },
  {
   "cell_type": "code",
   "execution_count": null,
   "metadata": {},
   "outputs": [],
   "source": [
    "dataset.describe(include=[\"object\"])"
   ]
  },
  {
   "cell_type": "markdown",
   "metadata": {},
   "source": [
    "Short explanation of each column:\n",
    "\n",
    "- <b>Size - </b>If utilizing liquid fuel, there are five different sizes of cans that can be used to adjust the size of the flames, or there are two different gas adjustments for LPG fuel. 7, 12, 14, 16 and 20 centimeters are represented as 1 to 5, respectively, and 6 and 7 constitute the half throttle and the full throttle setting.\n",
    "- <b>Distance - </b>The gasoline container was brought forward up to 190 cm throughout each experiment by advancing it from a distance of 10 cm each time. \n",
    "- <b>Decibel - </b>The decibel meter was moved in the same ditances as described above. \n",
    "- <b>Airflow - </b>The decibel meter was moved in the same ditances as described above. \n",
    "- <b>Frequency - </b>The aenometer was moved in the same ditances as described above.  \n",
    "- <b>Fuel - </b>The flame was produced with LPG fuel and three different liquid fuels.\n",
    "- <b>Status - </b>0 for non-extinction states or 1 for flame extinction."
   ]
  },
  {
   "cell_type": "markdown",
   "metadata": {},
   "source": [
    "The first six columns are input variables from the dataset that can be used to forecast the status attribute, which is the output variable."
   ]
  },
  {
   "cell_type": "markdown",
   "metadata": {},
   "source": [
    "## Pre-processing"
   ]
  },
  {
   "cell_type": "code",
   "execution_count": null,
   "metadata": {},
   "outputs": [],
   "source": [
    "dataset['FUEL'].unique()"
   ]
  },
  {
   "cell_type": "markdown",
   "metadata": {},
   "source": [
    "As we can see, there are no incorrectly added fuel types"
   ]
  },
  {
   "cell_type": "code",
   "execution_count": null,
   "metadata": {},
   "outputs": [],
   "source": [
    "if any(dataset['DISTANCE'] < 10) or any(dataset['DISTANCE'] > 190):\n",
    "    print(\"There are distances outside the range of 10 to 190\")\n",
    "else:\n",
    "    print(\"All distances are within the range of 10 to 190\")"
   ]
  },
  {
   "cell_type": "code",
   "execution_count": null,
   "metadata": {},
   "outputs": [],
   "source": [
    "fuel_size_dict = {'lpg': [6, 7], 'gasoline': [1, 2, 3, 4, 5], 'kerosene': [1, 2, 3, 4, 5], 'thinner': [1, 2, 3, 4, 5]}\n",
    "\n",
    "# clean size column based on fuel type\n",
    "for fuel_type, acceptable_sizes in fuel_size_dict.items():\n",
    "    dataset.loc[(dataset['FUEL'] == fuel_type) & (~dataset['SIZE'].isin(acceptable_sizes)), 'SIZE'] = None\n",
    "\n",
    "dataset.dropna(subset=['SIZE'], inplace=True)\n",
    "\n",
    "dataset['SIZE'].unique()\n"
   ]
  },
  {
   "cell_type": "code",
   "execution_count": null,
   "metadata": {},
   "outputs": [],
   "source": [
    "if any(dataset['DESIBEL'] < 72) or any(dataset['DESIBEL'] > 113):\n",
    "    print(\"There are decibels outside the range of 72 to 113\")\n",
    "else:\n",
    "    print(\"All decibels are within the range of 72 to 113\")"
   ]
  },
  {
   "cell_type": "code",
   "execution_count": null,
   "metadata": {},
   "outputs": [],
   "source": [
    "if any(dataset['AIRFLOW'] < 0) or any(dataset['AIRFLOW'] > 17):\n",
    "    print(\"There are levels of airflow outside the range of 0 to 17\")\n",
    "else:\n",
    "    print(\"All levels of airflow are within the range of 0 to 17\")"
   ]
  },
  {
   "cell_type": "code",
   "execution_count": null,
   "metadata": {},
   "outputs": [],
   "source": [
    "if any(dataset['FREQUENCY'] < 1) or any(dataset['FREQUENCY'] > 75):\n",
    "    print(\"There are frequencies outside the range of 1 to 75\")\n",
    "else:\n",
    "    print(\"All frequencies are within the range of 1 to 75\")"
   ]
  },
  {
   "cell_type": "code",
   "execution_count": null,
   "metadata": {},
   "outputs": [],
   "source": [
    "if dataset[~dataset['STATUS'].isin([0,1])].empty:\n",
    "    print(\"There is no data where the status column is neither 0 nor 1\")\n",
    "else:\n",
    "    print(\"There are invalid status\")"
   ]
  },
  {
   "cell_type": "code",
   "execution_count": null,
   "metadata": {},
   "outputs": [],
   "source": [
    "duplicates = dataset.duplicated(keep=False)\n",
    "dataset.drop_duplicates(keep=False, inplace=True)\n",
    "\n",
    "# display any duplicate rows\n",
    "if duplicates.any():\n",
    "    print(\"Duplicate rows:\")\n",
    "    print(dataset[duplicates])\n",
    "else:\n",
    "    print(\"There are no duplicate rows in the dataset.\")"
   ]
  },
  {
   "cell_type": "code",
   "execution_count": null,
   "metadata": {},
   "outputs": [],
   "source": [
    "# calculate skewness of each column\n",
    "skewness = dataset.skew(numeric_only = True)\n",
    "\n",
    "# display columns with skewness greater than 1 or less than -1\n",
    "skewed_columns = skewness[(skewness > 1) | (skewness < -1)]\n",
    "if len(skewed_columns) == 0:\n",
    "    print(\"There are no skewed columns in the dataset.\")\n",
    "else:\n",
    "    print(\"Skewed columns:\")\n",
    "    print(skewed_columns)\n",
    "    \n",
    "    # apply logarithmic transformation to skewed columns\n",
    "    for col in skewed_columns.index:\n",
    "        dataset[col] = np.log1p(dataset[col])\n",
    "    \n",
    "    print(\"Logarithmic transformation applied to skewed columns.\")"
   ]
  },
  {
   "cell_type": "code",
   "execution_count": null,
   "metadata": {},
   "outputs": [],
   "source": [
    "dataset.isnull().sum()"
   ]
  },
  {
   "cell_type": "markdown",
   "metadata": {},
   "source": [
    "There are no null values in the dataset."
   ]
  },
  {
   "cell_type": "markdown",
   "metadata": {},
   "source": [
    "To finish the preprocessing section, we switched the ``fuel`` category to numerical values."
   ]
  },
  {
   "cell_type": "code",
   "execution_count": null,
   "metadata": {},
   "outputs": [],
   "source": [
    "# create a dictionary to map fuel categories to numerical values\n",
    "fuel_map = {'gasoline': 1, 'kerosene': 2, 'thinner': 3, 'lpg': 4}\n",
    "\n",
    "# replace fuel categories with numerical values using the map() function\n",
    "dataset['FUEL'] = dataset['FUEL'].map(fuel_map)"
   ]
  },
  {
   "cell_type": "markdown",
   "metadata": {},
   "source": [
    "## Data Analysis"
   ]
  },
  {
   "cell_type": "code",
   "execution_count": null,
   "metadata": {},
   "outputs": [],
   "source": [
    "gasoline = dataset.loc[dataset['FUEL'] == 1]\n",
    "kerosene = dataset.loc[dataset['FUEL'] == 2]\n",
    "thinner = dataset.loc[dataset['FUEL'] == 3]\n",
    "lpg = dataset.loc[dataset['FUEL'] == 4]\n",
    "\n",
    "data = [gasoline.shape[0], kerosene.shape[0], thinner.shape[0], lpg.shape[0]]\n",
    "\n",
    "fig1, axis = plt.subplots()\n",
    "colors = ( \"#265599\",\"#576eb2\",\"#f58120\", \"#63a6b9\") \n",
    "axis.pie(data, colors = colors, labels=['gasoline', 'kerosene', 'thinner',  'lpg'], autopct='%1.1f%%',)\n",
    "axis.axis('equal')  \n",
    "plt.show()"
   ]
  },
  {
   "cell_type": "markdown",
   "metadata": {},
   "source": [
    "As we can see, the sample size for the liquid fuels is much bigger than for lpg. "
   ]
  },
  {
   "cell_type": "code",
   "execution_count": null,
   "metadata": {},
   "outputs": [],
   "source": [
    "sns.countplot(data = dataset, x='STATUS')"
   ]
  },
  {
   "cell_type": "markdown",
   "metadata": {},
   "source": [
    "There were similar numbers to the flames that got extinguished and the ones that didn't."
   ]
  },
  {
   "cell_type": "code",
   "execution_count": null,
   "metadata": {},
   "outputs": [],
   "source": [
    "plt.style.use('seaborn-dark-palette')\n",
    "pair_plot = dataset[['SIZE', 'FUEL', 'DISTANCE', 'DESIBEL', 'AIRFLOW', 'FREQUENCY', 'STATUS']]\n",
    "sns.pairplot(pair_plot)\n",
    "plt.show()"
   ]
  },
  {
   "cell_type": "code",
   "execution_count": null,
   "metadata": {},
   "outputs": [],
   "source": [
    "plt.figure(figsize=(3,3))\n",
    "plt.style.use('grayscale')\n",
    "sns.violinplot(x='STATUS', y='FUEL', data=dataset)"
   ]
  },
  {
   "cell_type": "code",
   "execution_count": null,
   "metadata": {},
   "outputs": [],
   "source": [
    "plt.figure(figsize=(10, 10))\n",
    "cols = [\"SIZE\", \"FUEL\", \"DISTANCE\", \"DESIBEL\", \"AIRFLOW\", \"FREQUENCY\"]\n",
    "\n",
    "corr = dataset.corr()\n",
    "sns.heatmap(corr, fmt=\".2f\", annot=True, cmap='coolwarm_r', vmin=-1, vmax=1)"
   ]
  },
  {
   "cell_type": "markdown",
   "metadata": {},
   "source": [
    "## Training"
   ]
  },
  {
   "cell_type": "markdown",
   "metadata": {},
   "source": [
    "We must first decide which columns will serve as input variables and output variables before we can train our model. \n",
    "As a result, the output variable will be the column status, which is the one we want to forecast, while the input variables (the other six columns) are utilized to predict whether or not the flame extinguished. We will also create a new column **FUEL_STATUS** to better split the dataset for the model."
   ]
  },
  {
   "cell_type": "code",
   "execution_count": null,
   "metadata": {},
   "outputs": [],
   "source": [
    "# Create a new column that combines FUEL and STATUS\n",
    "dataset[\"FUEL_STATUS\"] = dataset[\"FUEL\"].astype(str) + \"_\" + dataset[\"STATUS\"].astype(str)\n",
    "\n",
    "# input variables\n",
    "X = dataset.drop(columns=[\"STATUS\", \"FUEL_STATUS\"])\n",
    "print(X)"
   ]
  },
  {
   "cell_type": "code",
   "execution_count": null,
   "metadata": {},
   "outputs": [],
   "source": [
    "# output variables\n",
    "Y = dataset['STATUS']\n",
    "print(Y)"
   ]
  },
  {
   "cell_type": "markdown",
   "metadata": {},
   "source": [
    "## Split"
   ]
  },
  {
   "cell_type": "markdown",
   "metadata": {},
   "source": [
    "Following this, we will divide our data into two groups: the data we will use to train our model and the remaining data to assess the model's effectiveness. We adopted a 30/70 split since we discovered that feeding the model a lot of data was not necessary to train it.\n",
    "We used stratified sampling to ensure that all fuel types were adequately represented in order to improve performance (this was crucial for LPG because the majority of the data was related to liquid fuels)."
   ]
  },
  {
   "cell_type": "code",
   "execution_count": null,
   "metadata": {},
   "outputs": [],
   "source": [
    "# Perform the stratified sampling\n",
    "X_train, X_test, Y_train, Y_test = train_test_split(X, Y, test_size=0.7, stratify=dataset[\"FUEL_STATUS\"], random_state=42)\n",
    "\n",
    "# display the number of observations in each fuel type in the training set\n",
    "print(\"Number of observations in each fuel type in the training set:\")\n",
    "print(X_train['FUEL'].value_counts())\n",
    "\n",
    "print(\"\\nNumber of times the fire extinguished or not in the training set:\")\n",
    "print(Y_train.value_counts())\n",
    "\n",
    "print(\"\\nNumber of observations in each fuel type in the testing set:\")\n",
    "print(X_test['FUEL'].value_counts())\n",
    "\n",
    "print(\"\\nNumber of times the fire extinguished or not in the testing set:\")\n",
    "print(Y_test.value_counts())"
   ]
  },
  {
   "cell_type": "markdown",
   "metadata": {},
   "source": [
    "## Supervised Learning"
   ]
  },
  {
   "cell_type": "markdown",
   "metadata": {},
   "source": [
    "### K-Nearest Neighbors"
   ]
  },
  {
   "cell_type": "markdown",
   "metadata": {},
   "source": [
    "This classifier stores all the available data and classifies a new data point based on proximity or similarity."
   ]
  },
  {
   "cell_type": "code",
   "execution_count": null,
   "metadata": {},
   "outputs": [],
   "source": [
    "knn = KNeighborsClassifier()\n",
    "\n",
    "knn.fit(X_train, Y_train)\n",
    "knn_predictions = knn.predict(X_test)\n",
    "\n",
    "knn_report = classification_report(Y_test, knn_predictions)\n",
    "knn_cm = confusion_matrix(Y_test, knn_predictions)\n",
    "\n",
    "print(\"Classification Report:\\n\\n\", knn_report, \"\\n\\nConfusion Matrix:\\n\\n\", knn_cm)"
   ]
  },
  {
   "cell_type": "markdown",
   "metadata": {},
   "source": [
    "### Support Vector Classification"
   ]
  },
  {
   "cell_type": "markdown",
   "metadata": {},
   "source": [
    "It is based on the Support Vector Machines algorithm and gives predictions based on the side of the gap that a given example falls into."
   ]
  },
  {
   "cell_type": "code",
   "execution_count": null,
   "metadata": {},
   "outputs": [],
   "source": [
    "svc = SVC()\n",
    "\n",
    "svc.fit(X_train, Y_train)\n",
    "svc_predictions = svc.predict(X_test)\n",
    "\n",
    "svc_report = classification_report(Y_test, svc_predictions)\n",
    "svc_cm = confusion_matrix(Y_test, svc_predictions)\n",
    "\n",
    "print(\"Classification Report:\\n\\n\", svc_report, \"\\n\\nConfusion Matrix:\\n\\n\", svc_cm)"
   ]
  },
  {
   "cell_type": "markdown",
   "metadata": {},
   "source": [
    "### Decision Trees"
   ]
  },
  {
   "cell_type": "markdown",
   "metadata": {},
   "source": [
    "This classifier follows a tree like model of decisons. It splits the data recursively based on the most significant feature of each node."
   ]
  },
  {
   "cell_type": "code",
   "execution_count": null,
   "metadata": {},
   "outputs": [],
   "source": [
    "dt_classifier = DecisionTreeClassifier()\n",
    "\n",
    "dt_classifier.fit(X_train, Y_train)\n",
    "dt_predictions = dt_classifier.predict(X_test)\n",
    "\n",
    "dt_report = classification_report(Y_test, dt_predictions)\n",
    "dt_cm = confusion_matrix(Y_test, dt_predictions)\n",
    "\n",
    "print(\"Classification Report:\\n\\n\", dt_report, \"\\n\\nConfusion Matrix:\\n\\n\", dt_cm)"
   ]
  },
  {
   "cell_type": "markdown",
   "metadata": {},
   "source": [
    "### Neural Networks"
   ]
  },
  {
   "cell_type": "markdown",
   "metadata": {},
   "source": [
    "It is operated by many algorithms that work together in order to recognize patterns in a set of data and make predictions, mimicking the process in the human brain."
   ]
  },
  {
   "cell_type": "code",
   "execution_count": null,
   "metadata": {},
   "outputs": [],
   "source": [
    "nn_classifier = MLPClassifier()\n",
    "\n",
    "nn_classifier.fit(X_train, Y_train)\n",
    "nn_predictions = nn_classifier.predict(X_test)\n",
    "\n",
    "nn_report = classification_report(Y_test, dt_predictions)\n",
    "nn_cm = confusion_matrix(Y_test, dt_predictions)\n",
    "\n",
    "print(\"Classification Report:\\n\\n\", nn_report, \"\\n\\nConfusion Matrix:\\n\\n\", nn_cm)"
   ]
  },
  {
   "cell_type": "markdown",
   "metadata": {},
   "source": [
    "## Improving Algorithms"
   ]
  },
  {
   "cell_type": "markdown",
   "metadata": {},
   "source": [
    "### K-Nearest Neighbors"
   ]
  },
  {
   "cell_type": "code",
   "execution_count": null,
   "metadata": {},
   "outputs": [],
   "source": [
    "param_grid = {\n",
    "    'n_neighbors': [3, 5, 7],  # Specify the values of K (number of neighbors)\n",
    "    'weights': ['uniform', 'distance'],  # Specify the weight function\n",
    "    'algorithm': ['auto', 'ball_tree', 'kd_tree', 'brute'],  # Specify the algorithm\n",
    "    'p': [1, 2]  # Specify the power parameter for Minkowski distance (1 for Manhattan, 2 for Euclidean)\n",
    "}\n",
    "\n",
    "# Create classifier\n",
    "knn = KNeighborsClassifier()\n",
    "\n",
    "grid_search = GridSearchCV(knn, param_grid, cv=5)\n",
    "\n",
    "grid_search.fit(X_train, Y_train)\n",
    "\n",
    "Y_pred = grid_search.predict(X_test)\n",
    "\n",
    "print(\"Best param: \", grid_search.best_params_)"
   ]
  },
  {
   "cell_type": "code",
   "execution_count": null,
   "metadata": {},
   "outputs": [],
   "source": [
    "# Y_test values from dataset\n",
    "# Y_pred values from predictions\n",
    "cm = confusion_matrix(Y_test, Y_pred)\n",
    "conf_matrix = pd.DataFrame(data = cm,columns = ['Predicted:0','Predicted:1'],index = ['Actual:0','Actual:1'])\n",
    "plt.figure(figsize = (8,5))\n",
    "sns.heatmap(conf_matrix, annot=True,fmt='d',cmap=\"YlGnBu\")"
   ]
  },
  {
   "cell_type": "code",
   "execution_count": null,
   "metadata": {},
   "outputs": [],
   "source": [
    "accuracy = round(accuracy_score(Y_test,Y_pred),2)\n",
    "auc = round(roc_auc_score(Y_test,Y_pred),2)\n",
    "print(\"Accuracy: \", accuracy)\n",
    "print(\"ROC AUC Score: \", auc)"
   ]
  },
  {
   "cell_type": "code",
   "execution_count": null,
   "metadata": {},
   "outputs": [],
   "source": [
    "# Adding F1 score calculation\n",
    "f1 = f1_score(Y_test, Y_pred)\n",
    "print(\"F1 Score: \", f1)\n",
    "print(type(f1_score))"
   ]
  },
  {
   "cell_type": "code",
   "execution_count": null,
   "metadata": {},
   "outputs": [],
   "source": [
    "model = \"K-Nearest Neighbors\"\n",
    "\n",
    "x = range(len(model))\n",
    "\n",
    "plt.figure(figsize=(9, 7))\n",
    "plt.bar(x, accuracy, width=0.2, align='center', label='Accuracy')\n",
    "plt.bar(x, auc, width=0.2, align='edge', label='ROC AUC')\n",
    "plt.bar(x, f1, width=0.2, align='edge', label='F1 Score')\n",
    "plt.xlabel('Model')\n",
    "plt.ylabel('Score')\n",
    "plt.title('Performance Comparison')\n",
    "plt.xticks(x, model)\n",
    "plt.legend()\n",
    "plt.show()"
   ]
  },
  {
   "cell_type": "markdown",
   "metadata": {},
   "source": [
    "### Support Vector Classification"
   ]
  },
  {
   "cell_type": "code",
   "execution_count": null,
   "metadata": {},
   "outputs": [],
   "source": [
    "# Create classifier\n",
    "\n",
    "svc = SVC()\n",
    "\n",
    "param_grid = {'C': [0.1, 1, 10, 100, 1000], \n",
    "              'gamma': [1, 0.1, 0.01, 0.001, 0.0001],\n",
    "              'kernel': ['rbf']\n",
    "             }\n",
    "\"\"\"\n",
    "param_grid = {\n",
    "    'C': [0.1, 1, 10],\n",
    "    'kernel': ['linear', 'poly', 'rbf'],\n",
    "    'degree': [2, 3, 4],\n",
    "    'gamma': ['scale', 'auto'],\n",
    "    'coef0': [0.0, 0.5, 1.0],\n",
    "    'class_weight': [None, 'balanced'],\n",
    "    'verbose': [0, 1, 2]\n",
    "}\n",
    "\"\"\"\n",
    "grid_search = GridSearchCV(svc, param_grid, cv=5)\n",
    "\n",
    "grid_search.fit(X_train, Y_train) \n",
    "\n",
    "Y_pred = grid_search.predict(X_test)\n",
    "\n",
    "print(\"Best param: \", grid_search.best_params_)\n"
   ]
  },
  {
   "cell_type": "code",
   "execution_count": 37,
   "metadata": {},
   "outputs": [
    {
     "data": {
      "text/plain": [
       "'\\ncm = confusion_matrix(Y_test, Y_pred)\\nconf_matrix = pd.DataFrame(data = cm,columns = [\\'Predicted:0\\',\\'Predicted:1\\'],index = [\\'Actual:0\\',\\'Actual:1\\'])\\nplt.figure(figsize = (8,5))\\nsns.heatmap(conf_matrix, annot=True,fmt=\\'d\\',cmap=\"YlGnBu\")\\n'"
      ]
     },
     "execution_count": 37,
     "metadata": {},
     "output_type": "execute_result"
    }
   ],
   "source": [
    "# Y_test values from dataset\n",
    "# Y_pred values from predictions\n",
    "\"\"\"\n",
    "cm = confusion_matrix(Y_test, Y_pred)\n",
    "conf_matrix = pd.DataFrame(data = cm,columns = ['Predicted:0','Predicted:1'],index = ['Actual:0','Actual:1'])\n",
    "plt.figure(figsize = (8,5))\n",
    "sns.heatmap(conf_matrix, annot=True,fmt='d',cmap=\"YlGnBu\")\n",
    "\"\"\""
   ]
  },
  {
   "cell_type": "code",
   "execution_count": 38,
   "metadata": {},
   "outputs": [
    {
     "data": {
      "text/plain": [
       "'\\naccuracy = round(accuracy_score(Y_test,Y_pred),2)\\nauc = round(roc_auc_score(Y_test,Y_pred),2)\\nprint(\"Accuracy: \", accuracy)\\nprint(\"ROC AUC Score: \", auc)\\n'"
      ]
     },
     "execution_count": 38,
     "metadata": {},
     "output_type": "execute_result"
    }
   ],
   "source": [
    "\"\"\"\n",
    "accuracy = round(accuracy_score(Y_test,Y_pred),2)\n",
    "auc = round(roc_auc_score(Y_test,Y_pred),2)\n",
    "print(\"Accuracy: \", accuracy)\n",
    "print(\"ROC AUC Score: \", auc)\n",
    "\"\"\""
   ]
  },
  {
   "cell_type": "code",
   "execution_count": 39,
   "metadata": {},
   "outputs": [
    {
     "data": {
      "text/plain": [
       "'\\nf1 = f1_score(Y_test, Y_pred)\\nprint(\"F1 Score: \", f1)\\n'"
      ]
     },
     "execution_count": 39,
     "metadata": {},
     "output_type": "execute_result"
    }
   ],
   "source": [
    "# Adding F1 score calculation\n",
    "\"\"\"\n",
    "f1 = f1_score(Y_test, Y_pred)\n",
    "print(\"F1 Score: \", f1)\n",
    "\"\"\""
   ]
  },
  {
   "cell_type": "code",
   "execution_count": 40,
   "metadata": {},
   "outputs": [
    {
     "data": {
      "text/plain": [
       "'\\nmodel = \"Support Vector Classification\"\\n\\nx = range(len(model))\\n\\nplt.figure(figsize=(9, 7))\\nplt.bar(x, accuracy, width=0.2, align=\\'center\\', label=\\'Accuracy\\')\\nplt.bar(x, auc, width=0.2, align=\\'edge\\', label=\\'ROC AUC\\')\\nplt.bar(x, f1, width=0.2, align=\\'edge\\', label=\\'F1 Score\\')\\nplt.xlabel(\\'Model\\')\\nplt.ylabel(\\'Score\\')\\nplt.title(\\'Performance Comparison\\')\\nplt.xticks(x, model)\\nplt.legend()\\nplt.show()\\n'"
      ]
     },
     "execution_count": 40,
     "metadata": {},
     "output_type": "execute_result"
    }
   ],
   "source": [
    "\"\"\"\n",
    "model = \"Support Vector Classification\"\n",
    "\n",
    "x = range(len(model))\n",
    "\n",
    "plt.figure(figsize=(9, 7))\n",
    "plt.bar(x, accuracy, width=0.2, align='center', label='Accuracy')\n",
    "plt.bar(x, auc, width=0.2, align='edge', label='ROC AUC')\n",
    "plt.bar(x, f1, width=0.2, align='edge', label='F1 Score')\n",
    "plt.xlabel('Model')\n",
    "plt.ylabel('Score')\n",
    "plt.title('Performance Comparison')\n",
    "plt.xticks(x, model)\n",
    "plt.legend()\n",
    "plt.show()\n",
    "\"\"\""
   ]
  },
  {
   "cell_type": "markdown",
   "metadata": {},
   "source": [
    "### Decision Tree"
   ]
  },
  {
   "cell_type": "code",
   "execution_count": 41,
   "metadata": {},
   "outputs": [
    {
     "name": "stdout",
     "output_type": "stream",
     "text": [
      "Best param:  {'criterion': 'entropy', 'max_depth': 64, 'max_features': None, 'min_samples_leaf': 1, 'min_samples_split': 2, 'splitter': 'best'}\n"
     ]
    }
   ],
   "source": [
    "# Create classifier\n",
    "dt = tree.DecisionTreeClassifier()\n",
    "\n",
    "param_grid = {\n",
    "    'criterion': ['gini', 'entropy'],\n",
    "    'splitter': ['best', 'random'],\n",
    "    'max_depth': [32, 64, 128],\n",
    "    'min_samples_split': [2, 5, 10],\n",
    "    'min_samples_leaf': [1, 2, 3],\n",
    "    'max_features': [None, 'sqrt', 'log2']\n",
    "}\n",
    "\n",
    "grid_search = GridSearchCV(dt, param_grid, cv=5)\n",
    "\n",
    "grid_search.fit(X_train, Y_train) \n",
    "\n",
    "Y_pred = grid_search.predict(X_test)\n",
    "\n",
    "print(\"Best param: \", grid_search.best_params_)"
   ]
  },
  {
   "cell_type": "code",
   "execution_count": 42,
   "metadata": {},
   "outputs": [
    {
     "data": {
      "text/plain": [
       "<Axes: >"
      ]
     },
     "execution_count": 42,
     "metadata": {},
     "output_type": "execute_result"
    },
    {
     "data": {
      "image/png": "[encoded data removed]",
      "text/plain": [
       "<Figure size 800x500 with 2 Axes>"
      ]
     },
     "metadata": {},
     "output_type": "display_data"
    }
   ],
   "source": [
    "# Y_test values from dataset\n",
    "# Y_pred values from predictions\n",
    "cm = confusion_matrix(Y_test, Y_pred)\n",
    "conf_matrix = pd.DataFrame(data = cm,columns = ['Predicted:0','Predicted:1'],index = ['Actual:0','Actual:1'])\n",
    "plt.figure(figsize = (8,5))\n",
    "sns.heatmap(conf_matrix, annot=True,fmt='d',cmap=\"YlGnBu\")"
   ]
  },
  {
   "cell_type": "code",
   "execution_count": 43,
   "metadata": {},
   "outputs": [
    {
     "name": "stdout",
     "output_type": "stream",
     "text": [
      "Accuracy:  0.94\n",
      "ROC AUC Score:  0.94\n"
     ]
    }
   ],
   "source": [
    "accuracy = round(accuracy_score(Y_test,Y_pred),2)\n",
    "auc = round(roc_auc_score(Y_test,Y_pred),2)\n",
    "print(\"Accuracy: \", accuracy)\n",
    "print(\"ROC AUC Score: \", auc)"
   ]
  },
  {
   "cell_type": "code",
   "execution_count": 44,
   "metadata": {},
   "outputs": [
    {
     "name": "stdout",
     "output_type": "stream",
     "text": [
      "F1 Score:  0.942608695652174\n"
     ]
    }
   ],
   "source": [
    "f1 = f1_score(Y_test, Y_pred)\n",
    "print(\"F1 Score: \", f1)"
   ]
  },
  {
   "cell_type": "code",
   "execution_count": 45,
   "metadata": {},
   "outputs": [
    {
     "data": {
      "image/png": "[encoded data removed]",
      "text/plain": [
       "<Figure size 900x700 with 1 Axes>"
      ]
     },
     "metadata": {},
     "output_type": "display_data"
    }
   ],
   "source": [
    "model = \"Decision Tree\"\n",
    "\n",
    "x = range(len(model))\n",
    "\n",
    "plt.figure(figsize=(9, 7))\n",
    "plt.bar(x, accuracy, width=0.2, align='center', label='Accuracy')\n",
    "plt.bar(x, auc, width=0.2, align='edge', label='ROC AUC')\n",
    "plt.bar(x, f1, width=0.2, align='edge', label='F1 Score')\n",
    "plt.xlabel('Model')\n",
    "plt.ylabel('Score')\n",
    "plt.title('Performance Comparison')\n",
    "plt.xticks(x, model)\n",
    "plt.legend()\n",
    "plt.show()"
   ]
  },
  {
   "cell_type": "markdown",
   "metadata": {},
   "source": [
    "### Neural Network"
   ]
  },
  {
   "cell_type": "code",
   "execution_count": 119,
   "metadata": {},
   "outputs": [
    {
     "name": "stderr",
     "output_type": "stream",
     "text": [
      "/Users/phranklin/anaconda3/lib/python3.10/site-packages/sklearn/neural_network/_multilayer_perceptron.py:684: ConvergenceWarning: Stochastic Optimizer: Maximum iterations (200) reached and the optimization hasn't converged yet.\n",
      "  warnings.warn(\n",
      "/Users/phranklin/anaconda3/lib/python3.10/site-packages/sklearn/neural_network/_multilayer_perceptron.py:684: ConvergenceWarning: Stochastic Optimizer: Maximum iterations (200) reached and the optimization hasn't converged yet.\n",
      "  warnings.warn(\n",
      "/Users/phranklin/anaconda3/lib/python3.10/site-packages/sklearn/neural_network/_multilayer_perceptron.py:684: ConvergenceWarning: Stochastic Optimizer: Maximum iterations (200) reached and the optimization hasn't converged yet.\n",
      "  warnings.warn(\n",
      "/Users/phranklin/anaconda3/lib/python3.10/site-packages/sklearn/neural_network/_multilayer_perceptron.py:684: ConvergenceWarning: Stochastic Optimizer: Maximum iterations (200) reached and the optimization hasn't converged yet.\n",
      "  warnings.warn(\n",
      "/Users/phranklin/anaconda3/lib/python3.10/site-packages/sklearn/neural_network/_multilayer_perceptron.py:684: ConvergenceWarning: Stochastic Optimizer: Maximum iterations (200) reached and the optimization hasn't converged yet.\n",
      "  warnings.warn(\n",
      "/Users/phranklin/anaconda3/lib/python3.10/site-packages/sklearn/neural_network/_multilayer_perceptron.py:684: ConvergenceWarning: Stochastic Optimizer: Maximum iterations (200) reached and the optimization hasn't converged yet.\n",
      "  warnings.warn(\n",
      "/Users/phranklin/anaconda3/lib/python3.10/site-packages/sklearn/neural_network/_multilayer_perceptron.py:684: ConvergenceWarning: Stochastic Optimizer: Maximum iterations (200) reached and the optimization hasn't converged yet.\n",
      "  warnings.warn(\n",
      "/Users/phranklin/anaconda3/lib/python3.10/site-packages/sklearn/neural_network/_multilayer_perceptron.py:684: ConvergenceWarning: Stochastic Optimizer: Maximum iterations (200) reached and the optimization hasn't converged yet.\n",
      "  warnings.warn(\n",
      "/Users/phranklin/anaconda3/lib/python3.10/site-packages/sklearn/neural_network/_multilayer_perceptron.py:684: ConvergenceWarning: Stochastic Optimizer: Maximum iterations (200) reached and the optimization hasn't converged yet.\n",
      "  warnings.warn(\n",
      "/Users/phranklin/anaconda3/lib/python3.10/site-packages/sklearn/neural_network/_multilayer_perceptron.py:684: ConvergenceWarning: Stochastic Optimizer: Maximum iterations (200) reached and the optimization hasn't converged yet.\n",
      "  warnings.warn(\n",
      "/Users/phranklin/anaconda3/lib/python3.10/site-packages/sklearn/neural_network/_multilayer_perceptron.py:684: ConvergenceWarning: Stochastic Optimizer: Maximum iterations (200) reached and the optimization hasn't converged yet.\n",
      "  warnings.warn(\n",
      "/Users/phranklin/anaconda3/lib/python3.10/site-packages/sklearn/neural_network/_multilayer_perceptron.py:684: ConvergenceWarning: Stochastic Optimizer: Maximum iterations (200) reached and the optimization hasn't converged yet.\n",
      "  warnings.warn(\n",
      "/Users/phranklin/anaconda3/lib/python3.10/site-packages/sklearn/neural_network/_multilayer_perceptron.py:684: ConvergenceWarning: Stochastic Optimizer: Maximum iterations (200) reached and the optimization hasn't converged yet.\n",
      "  warnings.warn(\n",
      "/Users/phranklin/anaconda3/lib/python3.10/site-packages/sklearn/neural_network/_multilayer_perceptron.py:684: ConvergenceWarning: Stochastic Optimizer: Maximum iterations (200) reached and the optimization hasn't converged yet.\n",
      "  warnings.warn(\n",
      "/Users/phranklin/anaconda3/lib/python3.10/site-packages/sklearn/neural_network/_multilayer_perceptron.py:684: ConvergenceWarning: Stochastic Optimizer: Maximum iterations (200) reached and the optimization hasn't converged yet.\n",
      "  warnings.warn(\n",
      "/Users/phranklin/anaconda3/lib/python3.10/site-packages/sklearn/neural_network/_multilayer_perceptron.py:684: ConvergenceWarning: Stochastic Optimizer: Maximum iterations (200) reached and the optimization hasn't converged yet.\n",
      "  warnings.warn(\n",
      "/Users/phranklin/anaconda3/lib/python3.10/site-packages/sklearn/neural_network/_multilayer_perceptron.py:684: ConvergenceWarning: Stochastic Optimizer: Maximum iterations (200) reached and the optimization hasn't converged yet.\n",
      "  warnings.warn(\n",
      "/Users/phranklin/anaconda3/lib/python3.10/site-packages/sklearn/neural_network/_multilayer_perceptron.py:684: ConvergenceWarning: Stochastic Optimizer: Maximum iterations (200) reached and the optimization hasn't converged yet.\n",
      "  warnings.warn(\n",
      "/Users/phranklin/anaconda3/lib/python3.10/site-packages/sklearn/neural_network/_multilayer_perceptron.py:684: ConvergenceWarning: Stochastic Optimizer: Maximum iterations (200) reached and the optimization hasn't converged yet.\n",
      "  warnings.warn(\n",
      "/Users/phranklin/anaconda3/lib/python3.10/site-packages/sklearn/neural_network/_multilayer_perceptron.py:684: ConvergenceWarning: Stochastic Optimizer: Maximum iterations (200) reached and the optimization hasn't converged yet.\n",
      "  warnings.warn(\n",
      "/Users/phranklin/anaconda3/lib/python3.10/site-packages/sklearn/neural_network/_multilayer_perceptron.py:684: ConvergenceWarning: Stochastic Optimizer: Maximum iterations (200) reached and the optimization hasn't converged yet.\n",
      "  warnings.warn(\n",
      "/Users/phranklin/anaconda3/lib/python3.10/site-packages/sklearn/neural_network/_multilayer_perceptron.py:684: ConvergenceWarning: Stochastic Optimizer: Maximum iterations (200) reached and the optimization hasn't converged yet.\n",
      "  warnings.warn(\n",
      "/Users/phranklin/anaconda3/lib/python3.10/site-packages/sklearn/neural_network/_multilayer_perceptron.py:684: ConvergenceWarning: Stochastic Optimizer: Maximum iterations (200) reached and the optimization hasn't converged yet.\n",
      "  warnings.warn(\n",
      "/Users/phranklin/anaconda3/lib/python3.10/site-packages/sklearn/neural_network/_multilayer_perceptron.py:684: ConvergenceWarning: Stochastic Optimizer: Maximum iterations (200) reached and the optimization hasn't converged yet.\n",
      "  warnings.warn(\n",
      "/Users/phranklin/anaconda3/lib/python3.10/site-packages/sklearn/neural_network/_multilayer_perceptron.py:684: ConvergenceWarning: Stochastic Optimizer: Maximum iterations (200) reached and the optimization hasn't converged yet.\n",
      "  warnings.warn(\n",
      "/Users/phranklin/anaconda3/lib/python3.10/site-packages/sklearn/neural_network/_multilayer_perceptron.py:684: ConvergenceWarning: Stochastic Optimizer: Maximum iterations (200) reached and the optimization hasn't converged yet.\n",
      "  warnings.warn(\n",
      "/Users/phranklin/anaconda3/lib/python3.10/site-packages/sklearn/neural_network/_multilayer_perceptron.py:684: ConvergenceWarning: Stochastic Optimizer: Maximum iterations (200) reached and the optimization hasn't converged yet.\n",
      "  warnings.warn(\n",
      "/Users/phranklin/anaconda3/lib/python3.10/site-packages/sklearn/neural_network/_multilayer_perceptron.py:684: ConvergenceWarning: Stochastic Optimizer: Maximum iterations (200) reached and the optimization hasn't converged yet.\n",
      "  warnings.warn(\n",
      "/Users/phranklin/anaconda3/lib/python3.10/site-packages/sklearn/neural_network/_multilayer_perceptron.py:684: ConvergenceWarning: Stochastic Optimizer: Maximum iterations (200) reached and the optimization hasn't converged yet.\n",
      "  warnings.warn(\n",
      "/Users/phranklin/anaconda3/lib/python3.10/site-packages/sklearn/neural_network/_multilayer_perceptron.py:684: ConvergenceWarning: Stochastic Optimizer: Maximum iterations (200) reached and the optimization hasn't converged yet.\n",
      "  warnings.warn(\n",
      "/Users/phranklin/anaconda3/lib/python3.10/site-packages/sklearn/neural_network/_multilayer_perceptron.py:684: ConvergenceWarning: Stochastic Optimizer: Maximum iterations (200) reached and the optimization hasn't converged yet.\n",
      "  warnings.warn(\n",
      "/Users/phranklin/anaconda3/lib/python3.10/site-packages/sklearn/neural_network/_multilayer_perceptron.py:684: ConvergenceWarning: Stochastic Optimizer: Maximum iterations (200) reached and the optimization hasn't converged yet.\n",
      "  warnings.warn(\n",
      "/Users/phranklin/anaconda3/lib/python3.10/site-packages/sklearn/neural_network/_multilayer_perceptron.py:684: ConvergenceWarning: Stochastic Optimizer: Maximum iterations (200) reached and the optimization hasn't converged yet.\n",
      "  warnings.warn(\n",
      "/Users/phranklin/anaconda3/lib/python3.10/site-packages/sklearn/neural_network/_multilayer_perceptron.py:684: ConvergenceWarning: Stochastic Optimizer: Maximum iterations (200) reached and the optimization hasn't converged yet.\n",
      "  warnings.warn(\n",
      "/Users/phranklin/anaconda3/lib/python3.10/site-packages/sklearn/neural_network/_multilayer_perceptron.py:684: ConvergenceWarning: Stochastic Optimizer: Maximum iterations (200) reached and the optimization hasn't converged yet.\n",
      "  warnings.warn(\n",
      "/Users/phranklin/anaconda3/lib/python3.10/site-packages/sklearn/neural_network/_multilayer_perceptron.py:684: ConvergenceWarning: Stochastic Optimizer: Maximum iterations (200) reached and the optimization hasn't converged yet.\n",
      "  warnings.warn(\n",
      "/Users/phranklin/anaconda3/lib/python3.10/site-packages/sklearn/neural_network/_multilayer_perceptron.py:684: ConvergenceWarning: Stochastic Optimizer: Maximum iterations (200) reached and the optimization hasn't converged yet.\n",
      "  warnings.warn(\n",
      "/Users/phranklin/anaconda3/lib/python3.10/site-packages/sklearn/neural_network/_multilayer_perceptron.py:684: ConvergenceWarning: Stochastic Optimizer: Maximum iterations (200) reached and the optimization hasn't converged yet.\n",
      "  warnings.warn(\n",
      "/Users/phranklin/anaconda3/lib/python3.10/site-packages/sklearn/neural_network/_multilayer_perceptron.py:684: ConvergenceWarning: Stochastic Optimizer: Maximum iterations (200) reached and the optimization hasn't converged yet.\n",
      "  warnings.warn(\n",
      "/Users/phranklin/anaconda3/lib/python3.10/site-packages/sklearn/neural_network/_multilayer_perceptron.py:684: ConvergenceWarning: Stochastic Optimizer: Maximum iterations (200) reached and the optimization hasn't converged yet.\n",
      "  warnings.warn(\n",
      "/Users/phranklin/anaconda3/lib/python3.10/site-packages/sklearn/neural_network/_multilayer_perceptron.py:684: ConvergenceWarning: Stochastic Optimizer: Maximum iterations (200) reached and the optimization hasn't converged yet.\n",
      "  warnings.warn(\n",
      "/Users/phranklin/anaconda3/lib/python3.10/site-packages/sklearn/neural_network/_multilayer_perceptron.py:684: ConvergenceWarning: Stochastic Optimizer: Maximum iterations (200) reached and the optimization hasn't converged yet.\n",
      "  warnings.warn(\n",
      "/Users/phranklin/anaconda3/lib/python3.10/site-packages/sklearn/neural_network/_multilayer_perceptron.py:684: ConvergenceWarning: Stochastic Optimizer: Maximum iterations (200) reached and the optimization hasn't converged yet.\n",
      "  warnings.warn(\n",
      "/Users/phranklin/anaconda3/lib/python3.10/site-packages/sklearn/neural_network/_multilayer_perceptron.py:684: ConvergenceWarning: Stochastic Optimizer: Maximum iterations (200) reached and the optimization hasn't converged yet.\n",
      "  warnings.warn(\n",
      "/Users/phranklin/anaconda3/lib/python3.10/site-packages/sklearn/neural_network/_multilayer_perceptron.py:684: ConvergenceWarning: Stochastic Optimizer: Maximum iterations (200) reached and the optimization hasn't converged yet.\n",
      "  warnings.warn(\n",
      "/Users/phranklin/anaconda3/lib/python3.10/site-packages/sklearn/neural_network/_multilayer_perceptron.py:684: ConvergenceWarning: Stochastic Optimizer: Maximum iterations (200) reached and the optimization hasn't converged yet.\n",
      "  warnings.warn(\n"
     ]
    },
    {
     "name": "stdout",
     "output_type": "stream",
     "text": [
      "Best param:  {'activation': 'tanh', 'alpha': 0.001, 'hidden_layer_sizes': (100,), 'learning_rate': 'adaptive', 'solver': 'adam'}\n"
     ]
    },
    {
     "name": "stderr",
     "output_type": "stream",
     "text": [
      "/Users/phranklin/anaconda3/lib/python3.10/site-packages/sklearn/neural_network/_multilayer_perceptron.py:684: ConvergenceWarning: Stochastic Optimizer: Maximum iterations (200) reached and the optimization hasn't converged yet.\n",
      "  warnings.warn(\n"
     ]
    }
   ],
   "source": [
    "# Create classifier\n",
    "nn = MLPClassifier()\n",
    "\n",
    "# Define the parameter grid\n",
    "param_grid = {\n",
    "    'hidden_layer_sizes': [(100,), (50, 50)],\n",
    "    'activation': ['relu', 'tanh'],\n",
    "    'solver': ['sgd', 'adam'],\n",
    "    'alpha': [0.0001, 0.001],\n",
    "    'learning_rate': ['constant', 'adaptive']\n",
    "}\n",
    "\n",
    "grid_search = GridSearchCV(nn, param_grid, cv=5)\n",
    "\n",
    "grid_search.fit(X_train, Y_train) \n",
    "\n",
    "Y_pred = grid_search.predict(X_test)\n",
    "\n",
    "print(\"Best param: \", grid_search.best_params_)"
   ]
  },
  {
   "cell_type": "code",
   "execution_count": 120,
   "metadata": {},
   "outputs": [
    {
     "data": {
      "text/plain": [
       "<Axes: >"
      ]
     },
     "execution_count": 120,
     "metadata": {},
     "output_type": "execute_result"
    },
    {
     "data": {
      "image/png": "[encoded data removed]",
      "text/plain": [
       "<Figure size 800x500 with 2 Axes>"
      ]
     },
     "metadata": {},
     "output_type": "display_data"
    }
   ],
   "source": [
    "# Y_test values from dataset\n",
    "# Y_pred values from predictions\n",
    "cm = confusion_matrix(Y_test, Y_pred)\n",
    "conf_matrix = pd.DataFrame(data = cm,columns = ['Predicted:0','Predicted:1'],index = ['Actual:0','Actual:1'])\n",
    "plt.figure(figsize = (8,5))\n",
    "sns.heatmap(conf_matrix, annot=True,fmt='d',cmap=\"YlGnBu\")"
   ]
  },
  {
   "cell_type": "code",
   "execution_count": 121,
   "metadata": {},
   "outputs": [
    {
     "name": "stdout",
     "output_type": "stream",
     "text": [
      "Accuracy:  0.94\n",
      "ROC AUC Score:  0.94\n"
     ]
    }
   ],
   "source": [
    "accuracy = round(accuracy_score(Y_test,Y_pred),2)\n",
    "auc = round(roc_auc_score(Y_test,Y_pred),2)\n",
    "print(\"Accuracy: \", accuracy)\n",
    "print(\"ROC AUC Score: \", auc)"
   ]
  },
  {
   "cell_type": "code",
   "execution_count": 122,
   "metadata": {},
   "outputs": [
    {
     "name": "stdout",
     "output_type": "stream",
     "text": [
      "F1 Score:  0.9344140269622032\n"
     ]
    }
   ],
   "source": [
    "# Adding F1 score calculation\n",
    "f1 = f1_score(Y_test, Y_pred)\n",
    "print(\"F1 Score: \", f1)"
   ]
  },
  {
   "cell_type": "code",
   "execution_count": 123,
   "metadata": {},
   "outputs": [
    {
     "data": {
      "image/png": "[encoded data removed]",
      "text/plain": [
       "<Figure size 900x700 with 1 Axes>"
      ]
     },
     "metadata": {},
     "output_type": "display_data"
    }
   ],
   "source": [
    "model = \"Neural Network\"\n",
    "\n",
    "x = range(len(model))\n",
    "\n",
    "plt.figure(figsize=(9, 7))\n",
    "plt.bar(x, accuracy, width=0.2, align='center', label='Accuracy')\n",
    "plt.bar(x, auc, width=0.2, align='edge', label='ROC AUC')\n",
    "plt.bar(x, f1, width=0.2, align='edge', label='F1 Score')\n",
    "plt.xlabel('Model')\n",
    "plt.ylabel('Score')\n",
    "plt.title('Performance Comparison')\n",
    "plt.xticks(x, model)\n",
    "plt.legend()\n",
    "plt.show()"
   ]
  }
 ],
 "metadata": {
  "kernelspec": {
   "display_name": "Python 3 (ipykernel)",
   "language": "python",
   "name": "python3"
  },
  "language_info": {
   "codemirror_mode": {
    "name": "ipython",
    "version": 3
   },
   "file_extension": ".py",
   "mimetype": "text/x-python",
   "name": "python",
   "nbconvert_exporter": "python",
   "pygments_lexer": "ipython3",
   "version": "3.10.9"
  }
 },
 "nbformat": 4,
 "nbformat_minor": 2
}
