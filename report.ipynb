{
 "cells": [
  {
   "attachments": {},
   "cell_type": "markdown",
   "metadata": {},
   "source": [
    "# ACOUSTIC EXTINGUISHER FIRE DATASET\n",
    "\n",
    "The dataset was gathered after four separate fuel flames were put out using a sound wave extinguishing apparatus. With this experimental set-up, 17,442 tests were carried out in all. The fuel container size features in the dataset correspond to the flame size, fuel type, frequency, decibel, distance, airflow, and status of flame extinction.\n",
    "\n",
    "Based on the provided criteria, our goal is to forecast whether or not the flame will go out.\n"
   ]
  },
  {
   "attachments": {},
   "cell_type": "markdown",
   "metadata": {},
   "source": [
    "## Used Imports"
   ]
  },
  {
   "cell_type": "code",
   "execution_count": 127,
   "metadata": {},
   "outputs": [],
   "source": [
    "import pandas as pd\n",
    "import numpy as np\n",
    "import matplotlib.pyplot as plt\n",
    "import seaborn as sns\n"
   ]
  },
  {
   "attachments": {},
   "cell_type": "markdown",
   "metadata": {},
   "source": [
    "## Dataset"
   ]
  },
  {
   "cell_type": "code",
   "execution_count": 128,
   "metadata": {},
   "outputs": [
    {
     "data": {
      "text/html": [
       "<div>\n",
       "<style scoped>\n",
       "    .dataframe tbody tr th:only-of-type {\n",
       "        vertical-align: middle;\n",
       "    }\n",
       "\n",
       "    .dataframe tbody tr th {\n",
       "        vertical-align: top;\n",
       "    }\n",
       "\n",
       "    .dataframe thead th {\n",
       "        text-align: right;\n",
       "    }\n",
       "</style>\n",
       "<table border=\"1\" class=\"dataframe\">\n",
       "  <thead>\n",
       "    <tr style=\"text-align: right;\">\n",
       "      <th></th>\n",
       "      <th>SIZE</th>\n",
       "      <th>FUEL</th>\n",
       "      <th>DISTANCE</th>\n",
       "      <th>DESIBEL</th>\n",
       "      <th>AIRFLOW</th>\n",
       "      <th>FREQUENCY</th>\n",
       "      <th>STATUS</th>\n",
       "    </tr>\n",
       "  </thead>\n",
       "  <tbody>\n",
       "    <tr>\n",
       "      <th>0</th>\n",
       "      <td>1</td>\n",
       "      <td>gasoline</td>\n",
       "      <td>10</td>\n",
       "      <td>96</td>\n",
       "      <td>0.0</td>\n",
       "      <td>75</td>\n",
       "      <td>0</td>\n",
       "    </tr>\n",
       "    <tr>\n",
       "      <th>1</th>\n",
       "      <td>1</td>\n",
       "      <td>gasoline</td>\n",
       "      <td>10</td>\n",
       "      <td>96</td>\n",
       "      <td>0.0</td>\n",
       "      <td>72</td>\n",
       "      <td>1</td>\n",
       "    </tr>\n",
       "    <tr>\n",
       "      <th>2</th>\n",
       "      <td>1</td>\n",
       "      <td>gasoline</td>\n",
       "      <td>10</td>\n",
       "      <td>96</td>\n",
       "      <td>2.6</td>\n",
       "      <td>70</td>\n",
       "      <td>1</td>\n",
       "    </tr>\n",
       "    <tr>\n",
       "      <th>3</th>\n",
       "      <td>1</td>\n",
       "      <td>gasoline</td>\n",
       "      <td>10</td>\n",
       "      <td>96</td>\n",
       "      <td>3.2</td>\n",
       "      <td>68</td>\n",
       "      <td>1</td>\n",
       "    </tr>\n",
       "    <tr>\n",
       "      <th>4</th>\n",
       "      <td>1</td>\n",
       "      <td>gasoline</td>\n",
       "      <td>10</td>\n",
       "      <td>109</td>\n",
       "      <td>4.5</td>\n",
       "      <td>67</td>\n",
       "      <td>1</td>\n",
       "    </tr>\n",
       "  </tbody>\n",
       "</table>\n",
       "</div>"
      ],
      "text/plain": [
       "   SIZE      FUEL  DISTANCE  DESIBEL  AIRFLOW  FREQUENCY  STATUS\n",
       "0     1  gasoline        10       96      0.0         75       0\n",
       "1     1  gasoline        10       96      0.0         72       1\n",
       "2     1  gasoline        10       96      2.6         70       1\n",
       "3     1  gasoline        10       96      3.2         68       1\n",
       "4     1  gasoline        10      109      4.5         67       1"
      ]
     },
     "execution_count": 128,
     "metadata": {},
     "output_type": "execute_result"
    }
   ],
   "source": [
    "dataset = pd.read_excel('Acoustic_Extinguisher_Fire_Dataset/Acoustic_Extinguisher_Fire_Dataset.xlsx')\n",
    "dataset.head()"
   ]
  },
  {
   "attachments": {},
   "cell_type": "markdown",
   "metadata": {},
   "source": [
    "## Data"
   ]
  },
  {
   "attachments": {},
   "cell_type": "markdown",
   "metadata": {},
   "source": [
    "The size of the dataset (lines, columns):"
   ]
  },
  {
   "cell_type": "code",
   "execution_count": 129,
   "metadata": {},
   "outputs": [
    {
     "data": {
      "text/plain": [
       "(17442, 7)"
      ]
     },
     "execution_count": 129,
     "metadata": {},
     "output_type": "execute_result"
    }
   ],
   "source": [
    "dataset.shape"
   ]
  },
  {
   "cell_type": "code",
   "execution_count": 130,
   "metadata": {},
   "outputs": [
    {
     "name": "stdout",
     "output_type": "stream",
     "text": [
      "<class 'pandas.core.frame.DataFrame'>\n",
      "RangeIndex: 17442 entries, 0 to 17441\n",
      "Data columns (total 7 columns):\n",
      " #   Column     Non-Null Count  Dtype  \n",
      "---  ------     --------------  -----  \n",
      " 0   SIZE       17442 non-null  int64  \n",
      " 1   FUEL       17442 non-null  object \n",
      " 2   DISTANCE   17442 non-null  int64  \n",
      " 3   DESIBEL    17442 non-null  int64  \n",
      " 4   AIRFLOW    17442 non-null  float64\n",
      " 5   FREQUENCY  17442 non-null  int64  \n",
      " 6   STATUS     17442 non-null  int64  \n",
      "dtypes: float64(1), int64(5), object(1)\n",
      "memory usage: 954.0+ KB\n"
     ]
    }
   ],
   "source": [
    "dataset.info()"
   ]
  },
  {
   "cell_type": "code",
   "execution_count": 145,
   "metadata": {},
   "outputs": [
    {
     "data": {
      "text/html": [
       "<div>\n",
       "<style scoped>\n",
       "    .dataframe tbody tr th:only-of-type {\n",
       "        vertical-align: middle;\n",
       "    }\n",
       "\n",
       "    .dataframe tbody tr th {\n",
       "        vertical-align: top;\n",
       "    }\n",
       "\n",
       "    .dataframe thead th {\n",
       "        text-align: right;\n",
       "    }\n",
       "</style>\n",
       "<table border=\"1\" class=\"dataframe\">\n",
       "  <thead>\n",
       "    <tr style=\"text-align: right;\">\n",
       "      <th></th>\n",
       "      <th>SIZE</th>\n",
       "      <th>DISTANCE</th>\n",
       "      <th>DESIBEL</th>\n",
       "      <th>AIRFLOW</th>\n",
       "      <th>FREQUENCY</th>\n",
       "      <th>STATUS</th>\n",
       "    </tr>\n",
       "  </thead>\n",
       "  <tbody>\n",
       "    <tr>\n",
       "      <th>SIZE</th>\n",
       "      <td>1.000000e+00</td>\n",
       "      <td>-2.437871e-15</td>\n",
       "      <td>-6.125585e-15</td>\n",
       "      <td>1.677898e-16</td>\n",
       "      <td>9.978281e-17</td>\n",
       "      <td>-0.096947</td>\n",
       "    </tr>\n",
       "    <tr>\n",
       "      <th>DISTANCE</th>\n",
       "      <td>-2.437871e-15</td>\n",
       "      <td>1.000000e+00</td>\n",
       "      <td>-2.385897e-01</td>\n",
       "      <td>-7.074906e-01</td>\n",
       "      <td>-2.452947e-17</td>\n",
       "      <td>-0.644051</td>\n",
       "    </tr>\n",
       "    <tr>\n",
       "      <th>DESIBEL</th>\n",
       "      <td>-6.125585e-15</td>\n",
       "      <td>-2.385897e-01</td>\n",
       "      <td>1.000000e+00</td>\n",
       "      <td>3.769153e-01</td>\n",
       "      <td>5.617409e-01</td>\n",
       "      <td>0.203970</td>\n",
       "    </tr>\n",
       "    <tr>\n",
       "      <th>AIRFLOW</th>\n",
       "      <td>1.677898e-16</td>\n",
       "      <td>-7.074906e-01</td>\n",
       "      <td>3.769153e-01</td>\n",
       "      <td>1.000000e+00</td>\n",
       "      <td>-2.120462e-01</td>\n",
       "      <td>0.760628</td>\n",
       "    </tr>\n",
       "    <tr>\n",
       "      <th>FREQUENCY</th>\n",
       "      <td>9.978281e-17</td>\n",
       "      <td>-2.452947e-17</td>\n",
       "      <td>5.617409e-01</td>\n",
       "      <td>-2.120462e-01</td>\n",
       "      <td>1.000000e+00</td>\n",
       "      <td>-0.244203</td>\n",
       "    </tr>\n",
       "    <tr>\n",
       "      <th>STATUS</th>\n",
       "      <td>-9.694718e-02</td>\n",
       "      <td>-6.440506e-01</td>\n",
       "      <td>2.039698e-01</td>\n",
       "      <td>7.606279e-01</td>\n",
       "      <td>-2.442030e-01</td>\n",
       "      <td>1.000000</td>\n",
       "    </tr>\n",
       "  </tbody>\n",
       "</table>\n",
       "</div>"
      ],
      "text/plain": [
       "                   SIZE      DISTANCE       DESIBEL       AIRFLOW  \\\n",
       "SIZE       1.000000e+00 -2.437871e-15 -6.125585e-15  1.677898e-16   \n",
       "DISTANCE  -2.437871e-15  1.000000e+00 -2.385897e-01 -7.074906e-01   \n",
       "DESIBEL   -6.125585e-15 -2.385897e-01  1.000000e+00  3.769153e-01   \n",
       "AIRFLOW    1.677898e-16 -7.074906e-01  3.769153e-01  1.000000e+00   \n",
       "FREQUENCY  9.978281e-17 -2.452947e-17  5.617409e-01 -2.120462e-01   \n",
       "STATUS    -9.694718e-02 -6.440506e-01  2.039698e-01  7.606279e-01   \n",
       "\n",
       "              FREQUENCY    STATUS  \n",
       "SIZE       9.978281e-17 -0.096947  \n",
       "DISTANCE  -2.452947e-17 -0.644051  \n",
       "DESIBEL    5.617409e-01  0.203970  \n",
       "AIRFLOW   -2.120462e-01  0.760628  \n",
       "FREQUENCY  1.000000e+00 -0.244203  \n",
       "STATUS    -2.442030e-01  1.000000  "
      ]
     },
     "execution_count": 145,
     "metadata": {},
     "output_type": "execute_result"
    }
   ],
   "source": [
    "dataset.corr(numeric_only = True)"
   ]
  },
  {
   "cell_type": "code",
   "execution_count": 132,
   "metadata": {},
   "outputs": [
    {
     "data": {
      "text/html": [
       "<div>\n",
       "<style scoped>\n",
       "    .dataframe tbody tr th:only-of-type {\n",
       "        vertical-align: middle;\n",
       "    }\n",
       "\n",
       "    .dataframe tbody tr th {\n",
       "        vertical-align: top;\n",
       "    }\n",
       "\n",
       "    .dataframe thead th {\n",
       "        text-align: right;\n",
       "    }\n",
       "</style>\n",
       "<table border=\"1\" class=\"dataframe\">\n",
       "  <thead>\n",
       "    <tr style=\"text-align: right;\">\n",
       "      <th></th>\n",
       "      <th>SIZE</th>\n",
       "      <th>DISTANCE</th>\n",
       "      <th>DESIBEL</th>\n",
       "      <th>AIRFLOW</th>\n",
       "      <th>FREQUENCY</th>\n",
       "      <th>STATUS</th>\n",
       "    </tr>\n",
       "  </thead>\n",
       "  <tbody>\n",
       "    <tr>\n",
       "      <th>count</th>\n",
       "      <td>17442.000000</td>\n",
       "      <td>17442.000000</td>\n",
       "      <td>17442.000000</td>\n",
       "      <td>17442.000000</td>\n",
       "      <td>17442.000000</td>\n",
       "      <td>17442.000000</td>\n",
       "    </tr>\n",
       "    <tr>\n",
       "      <th>mean</th>\n",
       "      <td>3.411765</td>\n",
       "      <td>100.000000</td>\n",
       "      <td>96.379142</td>\n",
       "      <td>6.975634</td>\n",
       "      <td>31.611111</td>\n",
       "      <td>0.497821</td>\n",
       "    </tr>\n",
       "    <tr>\n",
       "      <th>std</th>\n",
       "      <td>1.750977</td>\n",
       "      <td>54.773826</td>\n",
       "      <td>8.164096</td>\n",
       "      <td>4.736169</td>\n",
       "      <td>20.939149</td>\n",
       "      <td>0.500010</td>\n",
       "    </tr>\n",
       "    <tr>\n",
       "      <th>min</th>\n",
       "      <td>1.000000</td>\n",
       "      <td>10.000000</td>\n",
       "      <td>72.000000</td>\n",
       "      <td>0.000000</td>\n",
       "      <td>1.000000</td>\n",
       "      <td>0.000000</td>\n",
       "    </tr>\n",
       "    <tr>\n",
       "      <th>25%</th>\n",
       "      <td>2.000000</td>\n",
       "      <td>50.000000</td>\n",
       "      <td>90.000000</td>\n",
       "      <td>3.200000</td>\n",
       "      <td>14.000000</td>\n",
       "      <td>0.000000</td>\n",
       "    </tr>\n",
       "    <tr>\n",
       "      <th>50%</th>\n",
       "      <td>3.000000</td>\n",
       "      <td>100.000000</td>\n",
       "      <td>95.000000</td>\n",
       "      <td>5.800000</td>\n",
       "      <td>27.500000</td>\n",
       "      <td>0.000000</td>\n",
       "    </tr>\n",
       "    <tr>\n",
       "      <th>75%</th>\n",
       "      <td>5.000000</td>\n",
       "      <td>150.000000</td>\n",
       "      <td>104.000000</td>\n",
       "      <td>11.200000</td>\n",
       "      <td>47.000000</td>\n",
       "      <td>1.000000</td>\n",
       "    </tr>\n",
       "    <tr>\n",
       "      <th>max</th>\n",
       "      <td>7.000000</td>\n",
       "      <td>190.000000</td>\n",
       "      <td>113.000000</td>\n",
       "      <td>17.000000</td>\n",
       "      <td>75.000000</td>\n",
       "      <td>1.000000</td>\n",
       "    </tr>\n",
       "  </tbody>\n",
       "</table>\n",
       "</div>"
      ],
      "text/plain": [
       "               SIZE      DISTANCE       DESIBEL       AIRFLOW     FREQUENCY  \\\n",
       "count  17442.000000  17442.000000  17442.000000  17442.000000  17442.000000   \n",
       "mean       3.411765    100.000000     96.379142      6.975634     31.611111   \n",
       "std        1.750977     54.773826      8.164096      4.736169     20.939149   \n",
       "min        1.000000     10.000000     72.000000      0.000000      1.000000   \n",
       "25%        2.000000     50.000000     90.000000      3.200000     14.000000   \n",
       "50%        3.000000    100.000000     95.000000      5.800000     27.500000   \n",
       "75%        5.000000    150.000000    104.000000     11.200000     47.000000   \n",
       "max        7.000000    190.000000    113.000000     17.000000     75.000000   \n",
       "\n",
       "             STATUS  \n",
       "count  17442.000000  \n",
       "mean       0.497821  \n",
       "std        0.500010  \n",
       "min        0.000000  \n",
       "25%        0.000000  \n",
       "50%        0.000000  \n",
       "75%        1.000000  \n",
       "max        1.000000  "
      ]
     },
     "execution_count": 132,
     "metadata": {},
     "output_type": "execute_result"
    }
   ],
   "source": [
    "dataset.describe()"
   ]
  },
  {
   "cell_type": "code",
   "execution_count": 133,
   "metadata": {},
   "outputs": [
    {
     "data": {
      "text/html": [
       "<div>\n",
       "<style scoped>\n",
       "    .dataframe tbody tr th:only-of-type {\n",
       "        vertical-align: middle;\n",
       "    }\n",
       "\n",
       "    .dataframe tbody tr th {\n",
       "        vertical-align: top;\n",
       "    }\n",
       "\n",
       "    .dataframe thead th {\n",
       "        text-align: right;\n",
       "    }\n",
       "</style>\n",
       "<table border=\"1\" class=\"dataframe\">\n",
       "  <thead>\n",
       "    <tr style=\"text-align: right;\">\n",
       "      <th></th>\n",
       "      <th>FUEL</th>\n",
       "    </tr>\n",
       "  </thead>\n",
       "  <tbody>\n",
       "    <tr>\n",
       "      <th>count</th>\n",
       "      <td>17442</td>\n",
       "    </tr>\n",
       "    <tr>\n",
       "      <th>unique</th>\n",
       "      <td>4</td>\n",
       "    </tr>\n",
       "    <tr>\n",
       "      <th>top</th>\n",
       "      <td>gasoline</td>\n",
       "    </tr>\n",
       "    <tr>\n",
       "      <th>freq</th>\n",
       "      <td>5130</td>\n",
       "    </tr>\n",
       "  </tbody>\n",
       "</table>\n",
       "</div>"
      ],
      "text/plain": [
       "            FUEL\n",
       "count      17442\n",
       "unique         4\n",
       "top     gasoline\n",
       "freq        5130"
      ]
     },
     "execution_count": 133,
     "metadata": {},
     "output_type": "execute_result"
    }
   ],
   "source": [
    "dataset.describe(include=[\"object\"])"
   ]
  },
  {
   "attachments": {},
   "cell_type": "markdown",
   "metadata": {},
   "source": [
    "Short explanation of each column:\n",
    "\n",
    "- <b>Size - </b>If utilizing liquid fuel, there are five different sizes of cans that can be used to adjust the size of the flames, or there are two different gas adjustments for LPG fuel. 7, 12, 14, 16 and 20 centimeters are represented as 1 to 5, respectively, and 6 and 7 constitute the half throttle and the full throttle setting.\n",
    "- <b>Distance - </b>The gasoline container was brought forward up to 190 cm throughout each experiment by advancing it from a distance of 10 cm each time. \n",
    "- <b>Decibel - </b>The decibel meter was moved in the same ditances as described above. \n",
    "- <b>Airflow - </b>The decibel meter was moved in the same ditances as described above. \n",
    "- <b>Frequency - </b>The aenometer was moved in the same ditances as described above.  \n",
    "- <b>Fuel - </b>The flame was produced with LPG fuel and three different liquid fuels.\n",
    "- <b>Status - </b>0 for non-extinction states or 1 for flame extinction."
   ]
  },
  {
   "attachments": {},
   "cell_type": "markdown",
   "metadata": {},
   "source": [
    "The first six columns are input variables from the dataset that can be used to forecast the status attribute, which is the output variable."
   ]
  },
  {
   "attachments": {},
   "cell_type": "markdown",
   "metadata": {},
   "source": [
    "## Pre-processing"
   ]
  },
  {
   "cell_type": "code",
   "execution_count": 134,
   "metadata": {},
   "outputs": [
    {
     "data": {
      "text/plain": [
       "array(['gasoline', 'thinner', 'kerosene', 'lpg'], dtype=object)"
      ]
     },
     "execution_count": 134,
     "metadata": {},
     "output_type": "execute_result"
    }
   ],
   "source": [
    "dataset['FUEL'].unique()"
   ]
  },
  {
   "attachments": {},
   "cell_type": "markdown",
   "metadata": {},
   "source": [
    "As we can see, there are no incorrectly added fuel types"
   ]
  },
  {
   "cell_type": "code",
   "execution_count": 135,
   "metadata": {},
   "outputs": [
    {
     "name": "stdout",
     "output_type": "stream",
     "text": [
      "All distances are within the range of 10 to 190\n"
     ]
    }
   ],
   "source": [
    "if any(dataset['DISTANCE'] < 10) or any(dataset['DISTANCE'] > 190):\n",
    "    print(\"There are distances outside the range of 10 to 190\")\n",
    "else:\n",
    "    print(\"All distances are within the range of 10 to 190\")"
   ]
  },
  {
   "cell_type": "code",
   "execution_count": 136,
   "metadata": {},
   "outputs": [
    {
     "data": {
      "text/plain": [
       "array([1., 2., 3., 4., 5., 6., 7.])"
      ]
     },
     "execution_count": 136,
     "metadata": {},
     "output_type": "execute_result"
    }
   ],
   "source": [
    "fuel_size_dict = {'lpg': [6, 7], 'gasoline': [1, 2, 3, 4, 5], 'kerosene': [1, 2, 3, 4, 5], 'thinner': [1, 2, 3, 4, 5]}\n",
    "\n",
    "# clean size column based on fuel type\n",
    "for fuel_type, acceptable_sizes in fuel_size_dict.items():\n",
    "    dataset.loc[(dataset['FUEL'] == fuel_type) & (~dataset['SIZE'].isin(acceptable_sizes)), 'SIZE'] = None\n",
    "\n",
    "dataset.dropna(subset=['SIZE'], inplace=True)\n",
    "\n",
    "dataset['SIZE'].unique()\n"
   ]
  },
  {
   "cell_type": "code",
   "execution_count": 137,
   "metadata": {},
   "outputs": [
    {
     "name": "stdout",
     "output_type": "stream",
     "text": [
      "All decibels are within the range of 72 to 113\n"
     ]
    }
   ],
   "source": [
    "if any(dataset['DESIBEL'] < 72) or any(dataset['DESIBEL'] > 113):\n",
    "    print(\"There are decibels outside the range of 72 to 113\")\n",
    "else:\n",
    "    print(\"All decibels are within the range of 72 to 113\")"
   ]
  },
  {
   "cell_type": "code",
   "execution_count": 138,
   "metadata": {},
   "outputs": [
    {
     "name": "stdout",
     "output_type": "stream",
     "text": [
      "All levels of airflow are within the range of 0 to 17\n"
     ]
    }
   ],
   "source": [
    "if any(dataset['AIRFLOW'] < 0) or any(dataset['AIRFLOW'] > 17):\n",
    "    print(\"There are levels of airflow outside the range of 0 to 17\")\n",
    "else:\n",
    "    print(\"All levels of airflow are within the range of 0 to 17\")"
   ]
  },
  {
   "cell_type": "code",
   "execution_count": 139,
   "metadata": {},
   "outputs": [
    {
     "name": "stdout",
     "output_type": "stream",
     "text": [
      "All frequencies are within the range of 1 to 75\n"
     ]
    }
   ],
   "source": [
    "if any(dataset['FREQUENCY'] < 1) or any(dataset['FREQUENCY'] > 75):\n",
    "    print(\"There are frequencies outside the range of 1 to 75\")\n",
    "else:\n",
    "    print(\"All frequencies are within the range of 1 to 75\")"
   ]
  },
  {
   "cell_type": "code",
   "execution_count": 140,
   "metadata": {},
   "outputs": [
    {
     "name": "stdout",
     "output_type": "stream",
     "text": [
      "There is no data where the status column is neither 0 nor 1\n"
     ]
    }
   ],
   "source": [
    "if dataset[~dataset['STATUS'].isin([0,1])].empty:\n",
    "    print(\"There is no data where the status column is neither 0 nor 1\")\n",
    "else:\n",
    "    print(\"There are invalid status\")"
   ]
  },
  {
   "cell_type": "code",
   "execution_count": 141,
   "metadata": {},
   "outputs": [
    {
     "name": "stdout",
     "output_type": "stream",
     "text": [
      "There are no duplicate rows in the dataset.\n"
     ]
    }
   ],
   "source": [
    "duplicates = dataset.duplicated(keep=False)\n",
    "dataset.drop_duplicates(keep=False, inplace=True)\n",
    "\n",
    "# display any duplicate rows\n",
    "if duplicates.any():\n",
    "    print(\"Duplicate rows:\")\n",
    "    print(dataset[duplicates])\n",
    "else:\n",
    "    print(\"There are no duplicate rows in the dataset.\")"
   ]
  },
  {
   "cell_type": "code",
   "execution_count": 148,
   "metadata": {},
   "outputs": [
    {
     "name": "stdout",
     "output_type": "stream",
     "text": [
      "There are no skewed columns in the dataset.\n"
     ]
    }
   ],
   "source": [
    "# calculate skewness of each column\n",
    "skewness = dataset.skew(numeric_only = True)\n",
    "\n",
    "# display columns with skewness greater than 1 or less than -1\n",
    "skewed_columns = skewness[(skewness > 1) | (skewness < -1)]\n",
    "if len(skewed_columns) == 0:\n",
    "    print(\"There are no skewed columns in the dataset.\")\n",
    "else:\n",
    "    print(\"Skewed columns:\")\n",
    "    print(skewed_columns)\n",
    "    \n",
    "    # apply logarithmic transformation to skewed columns\n",
    "    for col in skewed_columns.index:\n",
    "        dataset[col] = np.log1p(dataset[col])\n",
    "    \n",
    "    print(\"Logarithmic transformation applied to skewed columns.\")"
   ]
  },
  {
   "attachments": {},
   "cell_type": "markdown",
   "metadata": {},
   "source": [
    "## Data Analysis"
   ]
  },
  {
   "cell_type": "code",
   "execution_count": null,
   "metadata": {},
   "outputs": [],
   "source": []
  },
  {
   "cell_type": "code",
   "execution_count": null,
   "metadata": {},
   "outputs": [],
   "source": []
  }
 ],
 "metadata": {
  "kernelspec": {
   "display_name": "base",
   "language": "python",
   "name": "python3"
  },
  "language_info": {
   "codemirror_mode": {
    "name": "ipython",
    "version": 3
   },
   "file_extension": ".py",
   "mimetype": "text/x-python",
   "name": "python",
   "nbconvert_exporter": "python",
   "pygments_lexer": "ipython3",
   "version": "3.10.9"
  },
  "orig_nbformat": 4
 },
 "nbformat": 4,
 "nbformat_minor": 2
}
